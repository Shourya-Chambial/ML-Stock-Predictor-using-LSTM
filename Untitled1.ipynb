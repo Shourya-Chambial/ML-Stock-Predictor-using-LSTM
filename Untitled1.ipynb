{
  "nbformat": 4,
  "nbformat_minor": 0,
  "metadata": {
    "colab": {
      "name": "Untitled1.ipynb",
      "provenance": [],
      "collapsed_sections": [],
      "authorship_tag": "ABX9TyMndIzwxpP5KmYyXK47b9GP",
      "include_colab_link": true
    },
    "kernelspec": {
      "name": "python3",
      "display_name": "Python 3"
    },
    "language_info": {
      "name": "python"
    }
  },
  "cells": [
    {
      "cell_type": "markdown",
      "metadata": {
        "id": "view-in-github",
        "colab_type": "text"
      },
      "source": [
        "<a href=\"https://colab.research.google.com/github/Shourya-Chambial/ML-Stock-Predictor-using-LSTM/blob/main/Untitled1.ipynb\" target=\"_parent\"><img src=\"https://colab.research.google.com/assets/colab-badge.svg\" alt=\"Open In Colab\"/></a>"
      ]
    },
    {
      "cell_type": "code",
      "metadata": {
        "id": "e-d3XO0MlmRm"
      },
      "source": [
        "import numpy as np\n",
        "import matplotlib.pyplot as plt\n",
        "import pandas as pd"
      ],
      "execution_count": 1,
      "outputs": []
    },
    {
      "cell_type": "code",
      "metadata": {
        "id": "kCTa1G5FlvO3"
      },
      "source": [
        "dataset_train = pd.read_csv('NSE-TATAGLOBAL.csv')\n",
        "training_set = dataset_train.iloc[:, 1:2].values"
      ],
      "execution_count": 2,
      "outputs": []
    },
    {
      "cell_type": "code",
      "metadata": {
        "colab": {
          "base_uri": "https://localhost:8080/",
          "height": 204
        },
        "id": "MoJoET_Ol6ZG",
        "outputId": "28b2ecd2-d8a5-4171-f6ba-85350fe6db2e"
      },
      "source": [
        "dataset_train.head()"
      ],
      "execution_count": 3,
      "outputs": [
        {
          "output_type": "execute_result",
          "data": {
            "text/html": [
              "<div>\n",
              "<style scoped>\n",
              "    .dataframe tbody tr th:only-of-type {\n",
              "        vertical-align: middle;\n",
              "    }\n",
              "\n",
              "    .dataframe tbody tr th {\n",
              "        vertical-align: top;\n",
              "    }\n",
              "\n",
              "    .dataframe thead th {\n",
              "        text-align: right;\n",
              "    }\n",
              "</style>\n",
              "<table border=\"1\" class=\"dataframe\">\n",
              "  <thead>\n",
              "    <tr style=\"text-align: right;\">\n",
              "      <th></th>\n",
              "      <th>Date</th>\n",
              "      <th>Open</th>\n",
              "      <th>High</th>\n",
              "      <th>Low</th>\n",
              "      <th>Last</th>\n",
              "      <th>Close</th>\n",
              "      <th>Total Trade Quantity</th>\n",
              "      <th>Turnover (Lacs)</th>\n",
              "    </tr>\n",
              "  </thead>\n",
              "  <tbody>\n",
              "    <tr>\n",
              "      <th>0</th>\n",
              "      <td>2018-09-28</td>\n",
              "      <td>234.05</td>\n",
              "      <td>235.95</td>\n",
              "      <td>230.20</td>\n",
              "      <td>233.50</td>\n",
              "      <td>233.75</td>\n",
              "      <td>3069914</td>\n",
              "      <td>7162.35</td>\n",
              "    </tr>\n",
              "    <tr>\n",
              "      <th>1</th>\n",
              "      <td>2018-09-27</td>\n",
              "      <td>234.55</td>\n",
              "      <td>236.80</td>\n",
              "      <td>231.10</td>\n",
              "      <td>233.80</td>\n",
              "      <td>233.25</td>\n",
              "      <td>5082859</td>\n",
              "      <td>11859.95</td>\n",
              "    </tr>\n",
              "    <tr>\n",
              "      <th>2</th>\n",
              "      <td>2018-09-26</td>\n",
              "      <td>240.00</td>\n",
              "      <td>240.00</td>\n",
              "      <td>232.50</td>\n",
              "      <td>235.00</td>\n",
              "      <td>234.25</td>\n",
              "      <td>2240909</td>\n",
              "      <td>5248.60</td>\n",
              "    </tr>\n",
              "    <tr>\n",
              "      <th>3</th>\n",
              "      <td>2018-09-25</td>\n",
              "      <td>233.30</td>\n",
              "      <td>236.75</td>\n",
              "      <td>232.00</td>\n",
              "      <td>236.25</td>\n",
              "      <td>236.10</td>\n",
              "      <td>2349368</td>\n",
              "      <td>5503.90</td>\n",
              "    </tr>\n",
              "    <tr>\n",
              "      <th>4</th>\n",
              "      <td>2018-09-24</td>\n",
              "      <td>233.55</td>\n",
              "      <td>239.20</td>\n",
              "      <td>230.75</td>\n",
              "      <td>234.00</td>\n",
              "      <td>233.30</td>\n",
              "      <td>3423509</td>\n",
              "      <td>7999.55</td>\n",
              "    </tr>\n",
              "  </tbody>\n",
              "</table>\n",
              "</div>"
            ],
            "text/plain": [
              "         Date    Open    High  ...   Close  Total Trade Quantity  Turnover (Lacs)\n",
              "0  2018-09-28  234.05  235.95  ...  233.75               3069914          7162.35\n",
              "1  2018-09-27  234.55  236.80  ...  233.25               5082859         11859.95\n",
              "2  2018-09-26  240.00  240.00  ...  234.25               2240909          5248.60\n",
              "3  2018-09-25  233.30  236.75  ...  236.10               2349368          5503.90\n",
              "4  2018-09-24  233.55  239.20  ...  233.30               3423509          7999.55\n",
              "\n",
              "[5 rows x 8 columns]"
            ]
          },
          "metadata": {
            "tags": []
          },
          "execution_count": 3
        }
      ]
    },
    {
      "cell_type": "code",
      "metadata": {
        "id": "Np_3_1q4mEhm"
      },
      "source": [
        "from sklearn.preprocessing import MinMaxScaler\n",
        "sc = MinMaxScaler(feature_range = (0, 1))\n",
        "training_set_scaled = sc.fit_transform(training_set)"
      ],
      "execution_count": 4,
      "outputs": []
    },
    {
      "cell_type": "code",
      "metadata": {
        "id": "pkOsllRNmKNS"
      },
      "source": [
        "X_train = []\n",
        "y_train = []\n",
        "for i in range(60, 2035):\n",
        "    X_train.append(training_set_scaled[i-60:i, 0])\n",
        "    y_train.append(training_set_scaled[i, 0])\n",
        "X_train, y_train = np.array(X_train), np.array(y_train)\n",
        "\n",
        "X_train = np.reshape(X_train, (X_train.shape[0], X_train.shape[1], 1))"
      ],
      "execution_count": 5,
      "outputs": []
    },
    {
      "cell_type": "code",
      "metadata": {
        "id": "UHG6DS2cmUZE"
      },
      "source": [
        "from keras.models import Sequential\n",
        "from keras.layers import Dense\n",
        "from keras.layers import LSTM\n",
        "from keras.layers import Dropout"
      ],
      "execution_count": 6,
      "outputs": []
    },
    {
      "cell_type": "code",
      "metadata": {
        "colab": {
          "base_uri": "https://localhost:8080/"
        },
        "id": "VxZ3JRkUmWZv",
        "outputId": "6a6f0556-7f7d-45d1-bf90-789f9884287d"
      },
      "source": [
        "regressor = Sequential()\n",
        "\n",
        "regressor.add(LSTM(units = 50, return_sequences = True, input_shape = (X_train.shape[1], 1)))\n",
        "regressor.add(Dropout(0.2))\n",
        "\n",
        "regressor.add(LSTM(units = 50, return_sequences = True))\n",
        "regressor.add(Dropout(0.2))\n",
        "\n",
        "regressor.add(LSTM(units = 50, return_sequences = True))\n",
        "regressor.add(Dropout(0.2))\n",
        "\n",
        "regressor.add(LSTM(units = 50))\n",
        "regressor.add(Dropout(0.2))\n",
        "\n",
        "regressor.add(Dense(units = 1))\n",
        "\n",
        "regressor.compile(optimizer = 'adam', loss = 'mean_squared_error')\n",
        "\n",
        "regressor.fit(X_train, y_train, epochs = 100, batch_size = 32)"
      ],
      "execution_count": 8,
      "outputs": [
        {
          "output_type": "stream",
          "text": [
            "Epoch 1/100\n",
            "62/62 [==============================] - 14s 112ms/step - loss: 0.0280\n",
            "Epoch 2/100\n",
            "62/62 [==============================] - 7s 112ms/step - loss: 0.0033\n",
            "Epoch 3/100\n",
            "62/62 [==============================] - 7s 114ms/step - loss: 0.0030\n",
            "Epoch 4/100\n",
            "62/62 [==============================] - 7s 112ms/step - loss: 0.0025\n",
            "Epoch 5/100\n",
            "62/62 [==============================] - 7s 115ms/step - loss: 0.0024\n",
            "Epoch 6/100\n",
            "62/62 [==============================] - 7s 120ms/step - loss: 0.0023\n",
            "Epoch 7/100\n",
            "62/62 [==============================] - 7s 114ms/step - loss: 0.0022\n",
            "Epoch 8/100\n",
            "62/62 [==============================] - 7s 114ms/step - loss: 0.0026\n",
            "Epoch 9/100\n",
            "62/62 [==============================] - 7s 115ms/step - loss: 0.0019\n",
            "Epoch 10/100\n",
            "62/62 [==============================] - 7s 113ms/step - loss: 0.0021\n",
            "Epoch 11/100\n",
            "62/62 [==============================] - 7s 113ms/step - loss: 0.0021\n",
            "Epoch 12/100\n",
            "62/62 [==============================] - 7s 113ms/step - loss: 0.0017\n",
            "Epoch 13/100\n",
            "62/62 [==============================] - 7s 115ms/step - loss: 0.0015\n",
            "Epoch 14/100\n",
            "62/62 [==============================] - 7s 114ms/step - loss: 0.0016\n",
            "Epoch 15/100\n",
            "62/62 [==============================] - 7s 112ms/step - loss: 0.0015\n",
            "Epoch 16/100\n",
            "62/62 [==============================] - 7s 116ms/step - loss: 0.0020\n",
            "Epoch 17/100\n",
            "62/62 [==============================] - 7s 115ms/step - loss: 0.0015\n",
            "Epoch 18/100\n",
            "62/62 [==============================] - 7s 114ms/step - loss: 0.0019\n",
            "Epoch 19/100\n",
            "62/62 [==============================] - 7s 113ms/step - loss: 0.0014\n",
            "Epoch 20/100\n",
            "62/62 [==============================] - 7s 115ms/step - loss: 0.0015\n",
            "Epoch 21/100\n",
            "62/62 [==============================] - 7s 114ms/step - loss: 0.0016\n",
            "Epoch 22/100\n",
            "62/62 [==============================] - 7s 114ms/step - loss: 0.0015\n",
            "Epoch 23/100\n",
            "62/62 [==============================] - 7s 114ms/step - loss: 0.0013\n",
            "Epoch 24/100\n",
            "62/62 [==============================] - 7s 113ms/step - loss: 0.0013\n",
            "Epoch 25/100\n",
            "62/62 [==============================] - 7s 113ms/step - loss: 0.0013\n",
            "Epoch 26/100\n",
            "62/62 [==============================] - 7s 113ms/step - loss: 0.0015\n",
            "Epoch 27/100\n",
            "62/62 [==============================] - 7s 113ms/step - loss: 0.0013\n",
            "Epoch 28/100\n",
            "62/62 [==============================] - 7s 115ms/step - loss: 0.0012\n",
            "Epoch 29/100\n",
            "62/62 [==============================] - 7s 112ms/step - loss: 0.0011\n",
            "Epoch 30/100\n",
            "62/62 [==============================] - 7s 114ms/step - loss: 9.9166e-04\n",
            "Epoch 31/100\n",
            "62/62 [==============================] - 7s 114ms/step - loss: 0.0011\n",
            "Epoch 32/100\n",
            "62/62 [==============================] - 7s 115ms/step - loss: 0.0011\n",
            "Epoch 33/100\n",
            "62/62 [==============================] - 7s 115ms/step - loss: 9.8958e-04\n",
            "Epoch 34/100\n",
            "62/62 [==============================] - 7s 113ms/step - loss: 8.7691e-04\n",
            "Epoch 35/100\n",
            "62/62 [==============================] - 7s 113ms/step - loss: 0.0010\n",
            "Epoch 36/100\n",
            "62/62 [==============================] - 7s 114ms/step - loss: 0.0011\n",
            "Epoch 37/100\n",
            "62/62 [==============================] - 7s 113ms/step - loss: 0.0011\n",
            "Epoch 38/100\n",
            "62/62 [==============================] - 7s 113ms/step - loss: 0.0010\n",
            "Epoch 39/100\n",
            "62/62 [==============================] - 7s 114ms/step - loss: 0.0010\n",
            "Epoch 40/100\n",
            "62/62 [==============================] - 7s 116ms/step - loss: 8.2636e-04\n",
            "Epoch 41/100\n",
            "62/62 [==============================] - 7s 115ms/step - loss: 0.0010\n",
            "Epoch 42/100\n",
            "62/62 [==============================] - 7s 112ms/step - loss: 0.0012\n",
            "Epoch 43/100\n",
            "62/62 [==============================] - 7s 118ms/step - loss: 9.7532e-04\n",
            "Epoch 44/100\n",
            "62/62 [==============================] - 7s 116ms/step - loss: 9.8541e-04\n",
            "Epoch 45/100\n",
            "62/62 [==============================] - 7s 113ms/step - loss: 0.0012\n",
            "Epoch 46/100\n",
            "62/62 [==============================] - 7s 113ms/step - loss: 9.1429e-04\n",
            "Epoch 47/100\n",
            "62/62 [==============================] - 7s 113ms/step - loss: 7.5840e-04\n",
            "Epoch 48/100\n",
            "62/62 [==============================] - 7s 116ms/step - loss: 8.9876e-04\n",
            "Epoch 49/100\n",
            "62/62 [==============================] - 7s 114ms/step - loss: 7.8519e-04\n",
            "Epoch 50/100\n",
            "62/62 [==============================] - 7s 115ms/step - loss: 8.8196e-04\n",
            "Epoch 51/100\n",
            "62/62 [==============================] - 7s 115ms/step - loss: 0.0011\n",
            "Epoch 52/100\n",
            "62/62 [==============================] - 7s 113ms/step - loss: 7.8371e-04\n",
            "Epoch 53/100\n",
            "62/62 [==============================] - 7s 114ms/step - loss: 8.3867e-04\n",
            "Epoch 54/100\n",
            "62/62 [==============================] - 7s 114ms/step - loss: 8.2727e-04\n",
            "Epoch 55/100\n",
            "62/62 [==============================] - 7s 114ms/step - loss: 7.0004e-04\n",
            "Epoch 56/100\n",
            "62/62 [==============================] - 7s 114ms/step - loss: 7.1360e-04\n",
            "Epoch 57/100\n",
            "62/62 [==============================] - 7s 113ms/step - loss: 7.0641e-04\n",
            "Epoch 58/100\n",
            "62/62 [==============================] - 7s 111ms/step - loss: 8.9197e-04\n",
            "Epoch 59/100\n",
            "62/62 [==============================] - 7s 115ms/step - loss: 6.2100e-04\n",
            "Epoch 60/100\n",
            "62/62 [==============================] - 7s 115ms/step - loss: 6.8374e-04\n",
            "Epoch 61/100\n",
            "62/62 [==============================] - 7s 115ms/step - loss: 7.8213e-04\n",
            "Epoch 62/100\n",
            "62/62 [==============================] - 7s 113ms/step - loss: 8.3931e-04\n",
            "Epoch 63/100\n",
            "62/62 [==============================] - 7s 114ms/step - loss: 6.7668e-04\n",
            "Epoch 64/100\n",
            "62/62 [==============================] - 7s 116ms/step - loss: 7.3973e-04\n",
            "Epoch 65/100\n",
            "62/62 [==============================] - 7s 115ms/step - loss: 6.2471e-04\n",
            "Epoch 66/100\n",
            "62/62 [==============================] - 7s 115ms/step - loss: 8.5232e-04\n",
            "Epoch 67/100\n",
            "62/62 [==============================] - 7s 114ms/step - loss: 5.9759e-04\n",
            "Epoch 68/100\n",
            "62/62 [==============================] - 7s 113ms/step - loss: 7.2375e-04\n",
            "Epoch 69/100\n",
            "62/62 [==============================] - 7s 114ms/step - loss: 7.1983e-04\n",
            "Epoch 70/100\n",
            "62/62 [==============================] - 7s 115ms/step - loss: 6.3940e-04\n",
            "Epoch 71/100\n",
            "62/62 [==============================] - 7s 115ms/step - loss: 8.0591e-04\n",
            "Epoch 72/100\n",
            "62/62 [==============================] - 7s 116ms/step - loss: 7.1164e-04\n",
            "Epoch 73/100\n",
            "62/62 [==============================] - 7s 114ms/step - loss: 7.4203e-04\n",
            "Epoch 74/100\n",
            "62/62 [==============================] - 7s 113ms/step - loss: 8.4219e-04\n",
            "Epoch 75/100\n",
            "62/62 [==============================] - 7s 115ms/step - loss: 8.4522e-04\n",
            "Epoch 76/100\n",
            "62/62 [==============================] - 7s 115ms/step - loss: 6.6798e-04\n",
            "Epoch 77/100\n",
            "62/62 [==============================] - 7s 116ms/step - loss: 6.2789e-04\n",
            "Epoch 78/100\n",
            "62/62 [==============================] - 7s 114ms/step - loss: 6.4204e-04\n",
            "Epoch 79/100\n",
            "62/62 [==============================] - 7s 113ms/step - loss: 6.1312e-04\n",
            "Epoch 80/100\n",
            "62/62 [==============================] - 7s 115ms/step - loss: 7.3971e-04\n",
            "Epoch 81/100\n",
            "62/62 [==============================] - 7s 117ms/step - loss: 6.9483e-04\n",
            "Epoch 82/100\n",
            "62/62 [==============================] - 7s 113ms/step - loss: 6.5898e-04\n",
            "Epoch 83/100\n",
            "62/62 [==============================] - 7s 115ms/step - loss: 7.8914e-04\n",
            "Epoch 84/100\n",
            "62/62 [==============================] - 7s 117ms/step - loss: 6.0392e-04\n",
            "Epoch 85/100\n",
            "62/62 [==============================] - 7s 114ms/step - loss: 6.1779e-04\n",
            "Epoch 86/100\n",
            "62/62 [==============================] - 7s 114ms/step - loss: 6.7317e-04\n",
            "Epoch 87/100\n",
            "62/62 [==============================] - 7s 115ms/step - loss: 7.5366e-04\n",
            "Epoch 88/100\n",
            "62/62 [==============================] - 7s 114ms/step - loss: 6.6772e-04\n",
            "Epoch 89/100\n",
            "62/62 [==============================] - 7s 113ms/step - loss: 8.2906e-04\n",
            "Epoch 90/100\n",
            "62/62 [==============================] - 7s 115ms/step - loss: 6.4924e-04\n",
            "Epoch 91/100\n",
            "62/62 [==============================] - 7s 114ms/step - loss: 7.2313e-04\n",
            "Epoch 92/100\n",
            "62/62 [==============================] - 7s 115ms/step - loss: 7.7133e-04\n",
            "Epoch 93/100\n",
            "62/62 [==============================] - 7s 116ms/step - loss: 7.6780e-04\n",
            "Epoch 94/100\n",
            "62/62 [==============================] - 7s 116ms/step - loss: 6.4158e-04\n",
            "Epoch 95/100\n",
            "62/62 [==============================] - 7s 114ms/step - loss: 7.1100e-04\n",
            "Epoch 96/100\n",
            "62/62 [==============================] - 7s 115ms/step - loss: 7.1521e-04\n",
            "Epoch 97/100\n",
            "62/62 [==============================] - 7s 115ms/step - loss: 6.8334e-04\n",
            "Epoch 98/100\n",
            "62/62 [==============================] - 7s 114ms/step - loss: 6.2543e-04\n",
            "Epoch 99/100\n",
            "62/62 [==============================] - 7s 114ms/step - loss: 5.6282e-04\n",
            "Epoch 100/100\n",
            "62/62 [==============================] - 7s 115ms/step - loss: 6.1783e-04\n"
          ],
          "name": "stdout"
        },
        {
          "output_type": "execute_result",
          "data": {
            "text/plain": [
              "<keras.callbacks.History at 0x7fd922250a10>"
            ]
          },
          "metadata": {
            "tags": []
          },
          "execution_count": 8
        }
      ]
    },
    {
      "cell_type": "code",
      "metadata": {
        "id": "IZnXD9SJpbw9"
      },
      "source": [
        "dataset_test = pd.read_csv('tatatest.csv')\n",
        "real_stock_price = dataset_test.iloc[:, 1:2].values"
      ],
      "execution_count": 10,
      "outputs": []
    },
    {
      "cell_type": "code",
      "metadata": {
        "id": "Tw-9ucZasjwc"
      },
      "source": [
        "dataset_total = pd.concat((dataset_train['Open'], dataset_test['Open']), axis = 0)\n",
        "inputs = dataset_total[len(dataset_total) - len(dataset_test) - 60:].values\n",
        "inputs = inputs.reshape(-1,1)\n",
        "inputs = sc.transform(inputs)\n",
        "X_test = []\n",
        "for i in range(60, 76):\n",
        "    X_test.append(inputs[i-60:i, 0])\n",
        "X_test = np.array(X_test)\n",
        "X_test = np.reshape(X_test, (X_test.shape[0], X_test.shape[1], 1))\n",
        "predicted_stock_price = regressor.predict(X_test)\n",
        "predicted_stock_price = sc.inverse_transform(predicted_stock_price)\n"
      ],
      "execution_count": 13,
      "outputs": []
    },
    {
      "cell_type": "code",
      "metadata": {
        "colab": {
          "base_uri": "https://localhost:8080/",
          "height": 295
        },
        "id": "cbjH8KtYsx1N",
        "outputId": "e4a57470-9a24-4396-dc83-80451facfb6b"
      },
      "source": [
        "plt.plot(real_stock_price, color = 'black', label = 'TATA Stock Price')\n",
        "plt.plot(predicted_stock_price, color = 'green', label = 'Predicted TATA Stock Price')\n",
        "plt.title('TATA Stock Price Prediction')\n",
        "plt.xlabel('Time')\n",
        "plt.ylabel('TATA Stock Price')\n",
        "plt.legend()\n",
        "plt.show()"
      ],
      "execution_count": 14,
      "outputs": [
        {
          "output_type": "display_data",
          "data": {
            "image/png": "[encoded data removed]",
            "text/plain": [
              "<Figure size 432x288 with 1 Axes>"
            ]
          },
          "metadata": {
            "tags": [],
            "needs_background": "light"
          }
        }
      ]
    }
  ]
}